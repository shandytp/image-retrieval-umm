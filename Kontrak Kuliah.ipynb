{
 "cells": [
  {
   "cell_type": "markdown",
   "metadata": {},
   "source": [
    "# Kontrak Kuliah Image Retrieval"
   ]
  },
  {
   "cell_type": "markdown",
   "metadata": {},
   "source": [
    "Penilaian :\n",
    "- UTS (Mini Project) 20%\n",
    "- UAS (Paper) 20%\n",
    "- Tugas Besar (Aplikasi) 30%\n",
    "- Tugas 20%\n",
    "\n",
    "Tugas Besar : \n",
    "- Luaran tubes berupa paper dan aplikasi\n",
    "- Presentasi Proposal pertemuan pertama setelah UTS\n",
    "- Per kelompok max 2 orang\n",
    "- Tool : Google Colab, Flask\n",
    "- Image retrieval with various feature extraction methods"
   ]
  },
  {
   "cell_type": "markdown",
   "metadata": {},
   "source": [
    "# Silabus\n"
   ]
  },
  {
   "cell_type": "markdown",
   "metadata": {},
   "source": [
    "- Pengantar image retrieval\n",
    "- Pengolahan citra digital (enhance, denoise, sharpen)\n",
    "- Computer Vision\n",
    "- Pembentukan Citra\n",
    "- Image Histogram (RGB, Grayscale)\n",
    "- Konvolusi\n",
    "- Ekstraksi fitur tepi (Edge Detection Extraction)\n",
    "- Ekstraksi fitur warna\n",
    "- Ekstraksi fitur tekstur (First Order)\n",
    "- Ekstraksi fitur statistik GLCM (Gray-Level Co-Occurance) (Second Order)\n",
    "- Texton (Untuk ekstraksi fitur)\n",
    "- Pengukuran performa (Eucladian distance dsb)\n",
    "- MTCD Project example"
   ]
  }
 ],
 "metadata": {
  "kernelspec": {
   "display_name": "Python 3.7.6 64-bit ('tensorflow': conda)",
   "language": "python",
   "name": "python37664bittensorflowcondae25139d521174ed8abc6d94fb10b9a60"
  },
  "language_info": {
   "codemirror_mode": {
    "name": "ipython",
    "version": 3
   },
   "file_extension": ".py",
   "mimetype": "text/x-python",
   "name": "python",
   "nbconvert_exporter": "python",
   "pygments_lexer": "ipython3",
   "version": "3.7.6"
  }
 },
 "nbformat": 4,
 "nbformat_minor": 2
}
